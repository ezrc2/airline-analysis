{
 "cells": [
  {
   "cell_type": "markdown",
   "metadata": {},
   "source": [
    "# Fall 2020 Project - Eric Chen"
   ]
  },
  {
   "cell_type": "markdown",
   "metadata": {},
   "source": [
    "**Loading data**"
   ]
  },
  {
   "cell_type": "code",
   "execution_count": 155,
   "metadata": {},
   "outputs": [],
   "source": [
    "import pandas as pd\n",
    "\n",
    "flights = pd.read_csv(\"flights.csv\")"
   ]
  },
  {
   "cell_type": "code",
   "execution_count": 156,
   "metadata": {},
   "outputs": [],
   "source": [
    "american = flights.loc[(flights['MONTH'] == 12) & (flights['ORIGIN_AIRPORT'] == 'ORD') & (flights['DESTINATION_AIRPORT'] == 'LAX') &\n",
    "           (flights['AIRLINE'] == 'AA'), 'ARRIVAL_DELAY']\n",
    "united = flights.loc[(flights['MONTH'] == 12) & (flights['ORIGIN_AIRPORT'] == 'ORD') & (flights['DESTINATION_AIRPORT'] == 'LAX') &\n",
    "           (flights['AIRLINE'] == 'UA'), 'ARRIVAL_DELAY']"
   ]
  },
  {
   "cell_type": "markdown",
   "metadata": {},
   "source": [
    "## Hypothesis Test #1\n",
    "\n",
    "We want to compare the average arrival delay between American Airlines and United Airlines.\n",
    "\n",
    "**Check test assumptions:**"
   ]
  },
  {
   "cell_type": "code",
   "execution_count": 157,
   "metadata": {},
   "outputs": [
    {
     "name": "stdout",
     "output_type": "stream",
     "text": [
      "280\n",
      "302\n"
     ]
    }
   ],
   "source": [
    "american = american.dropna()\n",
    "united = united.dropna()\n",
    "\n",
    "print(american.count())\n",
    "print(united.count())"
   ]
  },
  {
   "cell_type": "markdown",
   "metadata": {},
   "source": [
    "Both sample sizes are large ($\\geq$ 30)."
   ]
  },
  {
   "cell_type": "markdown",
   "metadata": {},
   "source": [
    "**Boxplot**"
   ]
  },
  {
   "cell_type": "code",
   "execution_count": 158,
   "metadata": {},
   "outputs": [
    {
     "data": {
      "image/png": "[encoded data removed]",
      "text/plain": [
       "<Figure size 432x288 with 1 Axes>"
      ]
     },
     "metadata": {
      "needs_background": "light"
     },
     "output_type": "display_data"
    }
   ],
   "source": [
    "import matplotlib.pyplot as plt\n",
    "\n",
    "plt.boxplot([american, united], labels = [\"American\", \"United\"])\n",
    "plt.title(\"American vs United Airlines Arrival Delays\")\n",
    "plt.xlabel(\"Airline\")\n",
    "plt.ylabel(\"Arrival Delays (minutes)\")\n",
    "plt.show()"
   ]
  },
  {
   "cell_type": "markdown",
   "metadata": {},
   "source": [
    "**Hypotheses**\n",
    "\n",
    "Null hypothesis: The average arrival delay for American Airlines and United Airlines are the same.\n",
    "\n",
    "Alternative hypothesis: The average arrival delay for American Airlines is less than the average arrival delay for United Airlines.\n",
    "\n",
    "$H_0: \\mu_1 = \\mu_2$\n",
    "\n",
    "$H_A: \\mu_1 < \\mu_2$"
   ]
  },
  {
   "cell_type": "markdown",
   "metadata": {},
   "source": [
    "**z-test for 2 population means at significance level $\\alpha = 0.05$**"
   ]
  },
  {
   "cell_type": "code",
   "execution_count": 159,
   "metadata": {},
   "outputs": [
    {
     "data": {
      "text/plain": [
       "-1.3926811323141544"
      ]
     },
     "execution_count": 159,
     "metadata": {},
     "output_type": "execute_result"
    }
   ],
   "source": [
    "# compute test statistic\n",
    "z = (american.mean() - united.mean()) / ((american.std() ** 2 / len(american) + united.std() ** 2 / len(united)) ** 0.5)\n",
    "z"
   ]
  },
  {
   "cell_type": "code",
   "execution_count": 160,
   "metadata": {},
   "outputs": [
    {
     "data": {
      "text/plain": [
       "0.08185811830196899"
      ]
     },
     "execution_count": 160,
     "metadata": {},
     "output_type": "execute_result"
    }
   ],
   "source": [
    "# compute p=value\n",
    "from scipy.stats import norm\n",
    "\n",
    "p_value = norm.cdf(z)\n",
    "p_value"
   ]
  },
  {
   "cell_type": "markdown",
   "metadata": {},
   "source": [
    "**Conclusion**\n",
    "\n",
    "Because the $p$-value is greater than $0.05$, we fail to reject the null hypothesis and conclude there is no evidence that the average arrival delay for American Airlines is less than the average arrival delay for United Airlines."
   ]
  },
  {
   "cell_type": "markdown",
   "metadata": {},
   "source": [
    "## Hypothesis Test #2\n",
    "\n",
    "We want to compare the probability of flights delaying over an hour between American Airlines and United Air Lines.\n",
    "\n",
    "**Loading data**\n",
    "\n",
    "We only want rows where the arrival delay is more than an hour."
   ]
  },
  {
   "cell_type": "code",
   "execution_count": 161,
   "metadata": {},
   "outputs": [],
   "source": [
    "american_late = flights.loc[(flights['MONTH'] == 12) & (flights['ORIGIN_AIRPORT'] == 'ORD') & (flights['DESTINATION_AIRPORT'] == 'LAX') &\n",
    "           (flights['AIRLINE'] == 'AA') & (flights['ARRIVAL_DELAY'] > 60), 'ARRIVAL_DELAY']\n",
    "united_late = flights.loc[(flights['MONTH'] == 12) & (flights['ORIGIN_AIRPORT'] == 'ORD') & (flights['DESTINATION_AIRPORT'] == 'LAX') &\n",
    "           (flights['AIRLINE'] == 'UA') & (flights['ARRIVAL_DELAY'] > 60), 'ARRIVAL_DELAY']"
   ]
  },
  {
   "cell_type": "markdown",
   "metadata": {},
   "source": [
    "**Check test assumptions**"
   ]
  },
  {
   "cell_type": "code",
   "execution_count": 162,
   "metadata": {},
   "outputs": [
    {
     "name": "stdout",
     "output_type": "stream",
     "text": [
      "15.0\n",
      "265.0\n",
      "26.0\n",
      "276.0\n"
     ]
    }
   ],
   "source": [
    "x1 = american_late.count()\n",
    "n1 = american.count()\n",
    "p1 = x1 / n1\n",
    "print(n1 * p1)\n",
    "print(n1 * (1 - p1))\n",
    "\n",
    "x2 = united_late.count()\n",
    "n2 = united.count()\n",
    "p2 = x2 / n2\n",
    "print(n2 * p2)\n",
    "print(n2 * (1 - p2))"
   ]
  },
  {
   "cell_type": "markdown",
   "metadata": {},
   "source": [
    "$n \\cdot p \\geq 10$ and $n \\cdot (1-p) \\geq 10$ for both populations. "
   ]
  },
  {
   "cell_type": "markdown",
   "metadata": {},
   "source": [
    "**Hypotheses**\n",
    "\n",
    "Null hypothesis: The probability of flights delaying over an hour for American Airlines is equal to that of United Airlines.\n",
    "\n",
    "Alternative hypothesis: The probability of flights delaying over an hour for American Airlines is not equal to that of United Airlines.\n",
    "\n",
    "$H_0: \\mu_1 = \\mu_2$\n",
    "\n",
    "$H_A: \\mu_1 \\neq \\mu_2$"
   ]
  },
  {
   "cell_type": "markdown",
   "metadata": {},
   "source": [
    "**z-test at significance level $\\alpha = 0.05$**"
   ]
  },
  {
   "cell_type": "code",
   "execution_count": 163,
   "metadata": {},
   "outputs": [
    {
     "data": {
      "text/plain": [
       "-1.5318672735156422"
      ]
     },
     "execution_count": 163,
     "metadata": {},
     "output_type": "execute_result"
    }
   ],
   "source": [
    "# compute test statistic\n",
    "p = (x1 + x2) / (n1 + n2)\n",
    "z = (p1 - p2) / (p * (1 - p) * (1 / n1 + 1 / n2)) ** 0.5\n",
    "z"
   ]
  },
  {
   "cell_type": "code",
   "execution_count": 164,
   "metadata": {},
   "outputs": [
    {
     "data": {
      "text/plain": [
       "0.12555519084273978"
      ]
     },
     "execution_count": 164,
     "metadata": {},
     "output_type": "execute_result"
    }
   ],
   "source": [
    "# compute p-value\n",
    "p_value = norm.cdf(z) * 2\n",
    "p_value"
   ]
  },
  {
   "cell_type": "markdown",
   "metadata": {},
   "source": [
    "**Conclusion**\n",
    "\n",
    "Because the $p$-value is greater than $0.05$, we fail to reject the null hypothesis and conclude there is no evidence that the probability of flights delaying over an hour for American Airlines is not equal to that of United Airlines."
   ]
  },
  {
   "cell_type": "markdown",
   "metadata": {},
   "source": [
    "## Hypothesis Test #3\n",
    "\n",
    "Question: Is the average air time of Delta Airlines flights less than the average air time of Virgin America flights?"
   ]
  },
  {
   "cell_type": "markdown",
   "metadata": {},
   "source": [
    "**Loading data**"
   ]
  },
  {
   "cell_type": "code",
   "execution_count": 165,
   "metadata": {},
   "outputs": [],
   "source": [
    "delta = flights.loc[(flights['MONTH'] == 12) & (flights['ORIGIN_AIRPORT'] == 'SFO') & (flights['DESTINATION_AIRPORT'] == 'LAX') &\n",
    "           (flights['AIRLINE'] == 'DL'), 'AIR_TIME']\n",
    "virgin = flights.loc[(flights['MONTH'] == 12) & (flights['ORIGIN_AIRPORT'] == 'SFO') & (flights['DESTINATION_AIRPORT'] == 'LAX') &\n",
    "           (flights['AIRLINE'] == 'VX'), 'AIR_TIME']"
   ]
  },
  {
   "cell_type": "markdown",
   "metadata": {},
   "source": [
    "**Check test assumptions**"
   ]
  },
  {
   "cell_type": "code",
   "execution_count": 166,
   "metadata": {},
   "outputs": [
    {
     "name": "stdout",
     "output_type": "stream",
     "text": [
      "260\n",
      "285\n"
     ]
    }
   ],
   "source": [
    "delta = delta.dropna()\n",
    "virgin = virgin.dropna()\n",
    "\n",
    "print(delta.count())\n",
    "print(virgin.count())"
   ]
  },
  {
   "cell_type": "markdown",
   "metadata": {},
   "source": [
    "Both sample sizes are large ($\\geq$ 30)."
   ]
  },
  {
   "cell_type": "markdown",
   "metadata": {},
   "source": [
    "**Hypotheses**\n",
    "\n",
    "Null hypothesis: The average air time for American Airlines flights and United Airlines flights are the same.\n",
    "\n",
    "Alternative hypothesis: The average air time for American Airlines flights is less than that of United Airlines flights.\n",
    "\n",
    "$H_0: \\mu_1 = \\mu_2$\n",
    "\n",
    "$H_A: \\mu_1 < \\mu_2$"
   ]
  },
  {
   "cell_type": "markdown",
   "metadata": {},
   "source": [
    "**z-test at significance level $\\alpha = 0.05$**"
   ]
  },
  {
   "cell_type": "code",
   "execution_count": 167,
   "metadata": {},
   "outputs": [
    {
     "data": {
      "text/plain": [
       "-0.30229562111122354"
      ]
     },
     "execution_count": 167,
     "metadata": {},
     "output_type": "execute_result"
    }
   ],
   "source": [
    "# compute test statistic\n",
    "z = (delta.mean() - virgin.mean()) / ((delta.std() ** 2 / len(delta) + virgin.std() ** 2 / len(virgin)) ** 0.5)\n",
    "z"
   ]
  },
  {
   "cell_type": "code",
   "execution_count": 168,
   "metadata": {},
   "outputs": [
    {
     "data": {
      "text/plain": [
       "0.3812133580696913"
      ]
     },
     "execution_count": 168,
     "metadata": {},
     "output_type": "execute_result"
    }
   ],
   "source": [
    "# compute p-value\n",
    "p_value = norm.cdf(z)\n",
    "p_value"
   ]
  },
  {
   "cell_type": "markdown",
   "metadata": {},
   "source": [
    "**Conclusion**\n",
    "\n",
    "Because the $p$-value is greater than 0.05, we fail to reject the null hypothesis and conclude there is no evidence that the average air time for Delta Airlines flights is less than that of Virgin America flights."
   ]
  },
  {
   "cell_type": "markdown",
   "metadata": {},
   "source": [
    "## Multiple Comparisons"
   ]
  },
  {
   "cell_type": "markdown",
   "metadata": {},
   "source": [
    "**Bonferroni's Correction**\n",
    "\n",
    "With a family-wise error rate of $\\alpha = 0.05$, the new significance level $\\alpha^*$ for each test is:"
   ]
  },
  {
   "cell_type": "code",
   "execution_count": 169,
   "metadata": {},
   "outputs": [
    {
     "data": {
      "text/plain": [
       "0.016666666666666666"
      ]
     },
     "execution_count": 169,
     "metadata": {},
     "output_type": "execute_result"
    }
   ],
   "source": [
    "0.05 / 3"
   ]
  },
  {
   "cell_type": "markdown",
   "metadata": {},
   "source": [
    "**Hypothesis Test 1**\n",
    "\n",
    "The $p$-value 0.0819 is greater than $\\alpha^*$, so we still fail to reject the null hypothesis and conclude there is no evidence that the average arrival delay for American Airlines is less than the average arrival delay for United Airlines.\n",
    "\n",
    "**Hypothesis Test 2**\n",
    "\n",
    "The $p$-value 0.1256 is greater than $\\alpha^*$, so we still fail to reject the null hypothesis and conclude there is no evidence that the probability of flights delaying over an hour for American Airlines is not equal to that of United Airlines.\n",
    "\n",
    "**Hypothesis Test 3**\n",
    "\n",
    "The $𝑝$-value 0.3812 is greater than $\\alpha^*$, so we still fail to reject the null hypothesis and conclude there is no evidence that the average air time for Delta Airlines flights is less than that of Virgin America flights."
   ]
  }
 ],
 "metadata": {
  "kernelspec": {
   "display_name": "Python 3",
   "language": "python",
   "name": "python3"
  },
  "language_info": {
   "codemirror_mode": {
    "name": "ipython",
    "version": 3
   },
   "file_extension": ".py",
   "mimetype": "text/x-python",
   "name": "python",
   "nbconvert_exporter": "python",
   "pygments_lexer": "ipython3",
   "version": "3.7.1"
  }
 },
 "nbformat": 4,
 "nbformat_minor": 2
}
